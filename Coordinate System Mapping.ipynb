{
 "cells": [
  {
   "cell_type": "markdown",
   "metadata": {},
   "source": [
    "# Coordinate System Clarification\n",
    "\n",
    "There is a comment in the code that indicates the coordinate system of the map is left handed while the vehicle coordinates are right handed. Lets figure out if this is the case.\n",
    "\n",
    "The plan is to take the first ground truth position, first observation (relative to vehicle), and the map landmarks and see what rotation and translations are required to align the observations with the landmarks. "
   ]
  },
  {
   "cell_type": "code",
   "execution_count": 26,
   "metadata": {},
   "outputs": [],
   "source": [
    "import matplotlib.pyplot as plt\n",
    "import numpy as np\n",
    "import pandas as pd\n",
    "\n",
    "position = pd.read_table(\"data/gt_data.txt\", names=['x', 'y', 'theta'], delimiter=' ')\n",
    "landmarks = pd.read_table(\"data/map_data.txt\", names=['x', 'y', 'id'], delimiter='\\t')\n",
    "observations = pd.read_table(\"data/observation/observations_000001.txt\", names=['x', 'y'], delimiter=' ')"
   ]
  },
  {
   "cell_type": "code",
   "execution_count": 21,
   "metadata": {},
   "outputs": [
    {
     "data": {
      "image/png": "[encoded data removed]",
      "text/plain": [
       "<matplotlib.figure.Figure at 0x7f4218b90c88>"
      ]
     },
     "metadata": {},
     "output_type": "display_data"
    }
   ],
   "source": [
    "p = position.iloc[0]\n",
    "\n",
    "plt.figure()\n",
    "plt.plot(p.x, p.y, 'x')\n",
    "plt.plot(landmarks.x, landmarks.y, 'o')\n",
    "plt.plot(p.x + observations.x, p.y + observations.y, '^')\n",
    "plt.show()"
   ]
  },
  {
   "cell_type": "markdown",
   "metadata": {},
   "source": [
    "The first position is (6.2785, 1.9598, 0). The zero heading means the x axis of the map and vehicle are the same. Adding the first position to each observation will map directly to landmarks if the y axis of the car and map are aligned.\n",
    "\n",
    "This is the case, so the map and car are using right handed coordinate systems. Lets now take the second position which has a nonzero heading and second observation to verify the rotation and translation operations needed to go from the vehicle coordinate system to map coordinate system. "
   ]
  },
  {
   "cell_type": "code",
   "execution_count": 36,
   "metadata": {},
   "outputs": [
    {
     "data": {
      "image/png": "[encoded data removed]",
      "text/plain": [
       "<matplotlib.figure.Figure at 0x7f4218b1f240>"
      ]
     },
     "metadata": {},
     "output_type": "display_data"
    }
   ],
   "source": [
    "p2 = position.iloc[1]\n",
    "obs2 = pd.read_table(\"data/observation/observations_000002.txt\", names=['x', 'y'], delimiter=' ')\n",
    "\n",
    "theta = p2.theta\n",
    "x = obs2.x *  np.cos(theta) + obs2.y * -np.sin(theta)\n",
    "y = obs2.x *  np.sin(theta) + obs2.y *  np.cos(theta)\n",
    "\n",
    "plt.figure()\n",
    "plt.plot(p2.x, p2.y, 'x')\n",
    "plt.plot(landmarks.x, landmarks.y, 'o')\n",
    "plt.plot(p2.x + x, p2.y + y, '^')\n",
    "plt.show()"
   ]
  },
  {
   "cell_type": "code",
   "execution_count": null,
   "metadata": {
    "collapsed": true
   },
   "outputs": [],
   "source": []
  }
 ],
 "metadata": {
  "kernelspec": {
   "display_name": "Python 3",
   "language": "python",
   "name": "python3"
  },
  "language_info": {
   "codemirror_mode": {
    "name": "ipython",
    "version": 3
   },
   "file_extension": ".py",
   "mimetype": "text/x-python",
   "name": "python",
   "nbconvert_exporter": "python",
   "pygments_lexer": "ipython3",
   "version": "3.5.2"
  },
  "widgets": {
   "state": {},
   "version": "1.1.2"
  }
 },
 "nbformat": 4,
 "nbformat_minor": 2
}
